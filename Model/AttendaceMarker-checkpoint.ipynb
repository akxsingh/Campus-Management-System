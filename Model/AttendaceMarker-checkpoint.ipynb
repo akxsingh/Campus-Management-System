{
 "cells": [
  {
   "cell_type": "code",
   "execution_count": null,
   "id": "healthy-savannah",
   "metadata": {},
   "outputs": [
    {
     "name": "stdout",
     "output_type": "stream",
     "text": [
      "1000010484\n",
      "1000010484\n",
      "1000010484\n",
      "1000010484\n",
      "1000010484\n",
      "1000010484\n"
     ]
    }
   ],
   "source": [
    "import cv2\n",
    "import numpy as np\n",
    "import face_recognition\n",
    "import os\n",
    "from datetime import datetime\n",
    "import pickle\n",
    "\n",
    "path = 'C:/Users/amber/Downloads/Docs/Project related/Face Recognition Based Attendance System'\n",
    "attendance = 'Attendance.csv'\n",
    "dataset = 'dataset_faces.dat'\n",
    "with open(f'{path}/{dataset}','rb') as f:\n",
    "    all_faces_encodings = pickle.load(f)\n",
    "    \n",
    "classNames = list(all_faces_encodings.keys())\n",
    "encodeListKnown = np.array(list(all_faces_encodings.values()))\n",
    "\n",
    "file = open(f'{path}/{attendance}','w')\n",
    "    \n",
    "def markAttendance(name):\n",
    "    with open(f'{path}/{attendance}','r+') as f:\n",
    "        myDataList = f.readlines()\n",
    "        nameList = []\n",
    "        for line in myDataList:\n",
    "            entry = line.split(',')\n",
    "            nameList.append(entry[0])\n",
    "        if name not in nameList:\n",
    "            now = datetime.now()\n",
    "            dtString = now.strftime('%H:%M;%S')\n",
    "            f.writelines(f'{name},{dtString}\\n')\n",
    "            \n",
    "cap = cv2.VideoCapture(0)\n",
    "            \n",
    "while True:\n",
    "    success, img = cap.read()\n",
    "    imgs = cv2.resize(img,(0,0),None,0.25,0.25)\n",
    "    imgs = cv2.cvtColor(imgs,cv2.COLOR_BGR2RGB)\n",
    "    \n",
    "    facesCurFrame = face_recognition.face_locations(imgs)\n",
    "    encodesCurFrame = face_recognition.face_encodings(imgs,facesCurFrame)\n",
    "    \n",
    "    for encodeFace, faceLoc in zip(encodesCurFrame, facesCurFrame):\n",
    "        matches = face_recognition.compare_faces(encodeListKnown,encodeFace)\n",
    "        faceDis = face_recognition.face_distance(encodeListKnown,encodeFace)\n",
    "        #print(faceDis)\n",
    "        matchIndex = np.argmin(faceDis)\n",
    "        \n",
    "        if matches[matchIndex]:\n",
    "            name = classNames[matchIndex].upper()\n",
    "            print(name)\n",
    "            y1,x2,y2,x1 = faceLoc\n",
    "            y1,x2,y2,x1 = y1*4,x2*4,y2*4,x1*4\n",
    "            cv2.rectangle(img,(x1,y1),(x2,y2),(0,255,255),2)\n",
    "            cv2.rectangle(img,(x1,y2-35),(x2,y2),(0,255,0),cv2.FILLED)\n",
    "            cv2.putText(img,name,(x1+6,y2-6),cv2.FONT_HERSHEY_COMPLEX,1,(255,255,255),1)\n",
    "            markAttendance(name)\n",
    "            \n",
    "    \n",
    "    \n",
    "    cv2.imshow('Webcam',img)\n",
    "    cv2.waitKey(1)"
   ]
  },
  {
   "cell_type": "code",
   "execution_count": null,
   "id": "ongoing-tribute",
   "metadata": {},
   "outputs": [],
   "source": []
  }
 ],
 "metadata": {
  "kernelspec": {
   "display_name": "Python 3",
   "language": "python",
   "name": "python3"
  },
  "language_info": {
   "codemirror_mode": {
    "name": "ipython",
    "version": 3
   },
   "file_extension": ".py",
   "mimetype": "text/x-python",
   "name": "python",
   "nbconvert_exporter": "python",
   "pygments_lexer": "ipython3",
   "version": "3.9.1"
  }
 },
 "nbformat": 4,
 "nbformat_minor": 5
}
