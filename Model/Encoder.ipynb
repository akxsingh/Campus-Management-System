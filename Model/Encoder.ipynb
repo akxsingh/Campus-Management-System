{
 "cells": [
  {
   "cell_type": "code",
   "execution_count": 1,
   "id": "promotional-northeast",
   "metadata": {},
   "outputs": [
    {
     "name": "stdout",
     "output_type": "stream",
     "text": [
      "Encoding Started...\n",
      "Encoding Complete.\n"
     ]
    }
   ],
   "source": [
    "import cv2\n",
    "import numpy as np\n",
    "import face_recognition\n",
    "import os\n",
    "import pickle\n",
    "\n",
    "path = 'C:/Users/amber/Downloads/Docs/Project related/Face Recognition Based Attendance System'\n",
    "trainingImages = 'Training_Images'\n",
    "dataset = 'dataset_faces.dat'\n",
    "images = []\n",
    "classNames = []\n",
    "myList = os.listdir(path+'/'+trainingImages)\n",
    "#print(myList)\n",
    "\n",
    "#Find Names\n",
    "for cl in myList:\n",
    "    curImg = cv2.imread(f'{path}/{trainingImages}/{cl}')\n",
    "    images.append(curImg)\n",
    "    classNames.append(os.path.splitext(cl)[0])\n",
    "\n",
    "\n",
    "def findEncodings(images):\n",
    "    encodeList = {}\n",
    "    i = 0\n",
    "    for img in images:\n",
    "        img = cv2.cvtColor(img,cv2.COLOR_BGR2RGB)\n",
    "        encode = face_recognition.face_encodings(img)[0]\n",
    "        encodeList[classNames[i]] = encode\n",
    "        i += 1\n",
    "    return encodeList\n",
    "\n",
    "print('Encoding Started...')\n",
    "all_faces_encodings = findEncodings(images)\n",
    "with open(f'{path}/{dataset}', 'wb') as f:\n",
    "    pickle.dump(all_faces_encodings, f)\n",
    "    \n",
    "print('Encoding Complete.')"
   ]
  },
  {
   "cell_type": "code",
   "execution_count": null,
   "id": "restricted-husband",
   "metadata": {},
   "outputs": [],
   "source": []
  }
 ],
 "metadata": {
  "kernelspec": {
   "display_name": "Python 3",
   "language": "python",
   "name": "python3"
  },
  "language_info": {
   "codemirror_mode": {
    "name": "ipython",
    "version": 3
   },
   "file_extension": ".py",
   "mimetype": "text/x-python",
   "name": "python",
   "nbconvert_exporter": "python",
   "pygments_lexer": "ipython3",
   "version": "3.9.1"
  }
 },
 "nbformat": 4,
 "nbformat_minor": 5
}
